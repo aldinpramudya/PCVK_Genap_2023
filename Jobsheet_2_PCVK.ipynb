{
  "nbformat": 4,
  "nbformat_minor": 0,
  "metadata": {
    "colab": {
      "provenance": [],
      "authorship_tag": "ABX9TyPJePJ2ArNhvCIVAk+lrFvi",
      "include_colab_link": true
    },
    "kernelspec": {
      "name": "python3",
      "display_name": "Python 3"
    },
    "language_info": {
      "name": "python"
    }
  },
  "cells": [
    {
      "cell_type": "markdown",
      "metadata": {
        "id": "view-in-github",
        "colab_type": "text"
      },
      "source": [
        "<a href=\"https://colab.research.google.com/github/aldinpramudya/PCVK_Genap_2023/blob/main/Jobsheet_2_PCVK.ipynb\" target=\"_parent\"><img src=\"https://colab.research.google.com/assets/colab-badge.svg\" alt=\"Open In Colab\"/></a>"
      ]
    },
    {
      "cell_type": "code",
      "execution_count": null,
      "metadata": {
        "id": "NHttOTOk8xM-"
      },
      "outputs": [],
      "source": []
    },
    {
      "cell_type": "markdown",
      "source": [
        "# Jobsheet  2 PCVK\n",
        "## Nama : ALdin Ariel Pramudya\n",
        "## NIM : 2141720233\n"
      ],
      "metadata": {
        "id": "TbEFK-vv9ooQ"
      }
    }
  ]
}